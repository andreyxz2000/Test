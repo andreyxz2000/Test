{
  "nbformat": 4,
  "nbformat_minor": 0,
  "metadata": {
    "colab": {
      "provenance": [],
      "authorship_tag": "ABX9TyMp7XGQIxWHjOCri19qF5BT",
      "include_colab_link": true
    },
    "kernelspec": {
      "name": "python3",
      "display_name": "Python 3"
    },
    "language_info": {
      "name": "python"
    }
  },
  "cells": [
    {
      "cell_type": "markdown",
      "metadata": {
        "id": "view-in-github",
        "colab_type": "text"
      },
      "source": [
        "<a href=\"https://colab.research.google.com/github/andreyxz2000/Test/blob/main/Svetozarov%20Andrey/Resize%2Brename_images.ipynb\" target=\"_parent\"><img src=\"https://colab.research.google.com/assets/colab-badge.svg\" alt=\"Open In Colab\"/></a>"
      ]
    },
    {
      "cell_type": "code",
      "execution_count": 3,
      "metadata": {
        "colab": {
          "base_uri": "https://localhost:8080/"
        },
        "id": "5B-ygiRZatho",
        "outputId": "88e9d1e3-375c-434c-ef74-772981136cbc"
      },
      "outputs": [
        {
          "output_type": "stream",
          "name": "stdout",
          "text": [
            "Обработан frame_0001.jpg -> 0.jpeg\n",
            "Обработан frame_0258.jpg -> 1.jpeg\n",
            "Обработан frame_0275.jpg -> 2.jpeg\n",
            "Обработан frame_0387.jpg -> 3.jpeg\n",
            "Все файлы переименованы и переформатированы\n"
          ]
        }
      ],
      "source": [
        "from PIL import Image\n",
        "import os\n",
        "\n",
        "input_dir = \"Images1/\" # Нужно создать папку с таким именем и загрузить в него все картинки\n",
        "output_dir = \"ResizedImages/\" #Эта папка создастся автоматически. В нее будут загружены переименованные и переформатированнные картинки\n",
        "target_size = (100, 100) #задаем единый формат изображений\n",
        "output_format = \"JPEG\"  #задаем расширение для картинок\n",
        "\n",
        "if not os.path.exists(output_dir):\n",
        "    os.makedirs(output_dir)\n",
        "\n",
        "file_list = sorted([file for file in os.listdir(input_dir) if file.lower().endswith(('.jpg', '.gif'))])\n",
        "\n",
        "for idx, filename in enumerate(file_list):\n",
        "    input_path = os.path.join(input_dir, filename)\n",
        "    img = Image.open(input_path)\n",
        "    img = img.resize(target_size, Image.LANCZOS)  # Используйте LANCZOS для ресайза\n",
        "\n",
        "    output_filename = f\"{idx}.{output_format.lower()}\"  # Преобразуем формат в нижний регистр\n",
        "    output_path = os.path.join(output_dir, output_filename)\n",
        "    img.save(output_path, format=output_format)\n",
        "\n",
        "    print(f\"Обработан {filename} -> {output_filename}\")\n",
        "\n",
        "print(\"Все файлы переименованы и переформатированы\")\n",
        "\n"
      ]
    }
  ]
}